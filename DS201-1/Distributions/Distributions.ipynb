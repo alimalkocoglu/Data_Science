{
 "cells": [
  {
   "cell_type": "markdown",
   "metadata": {},
   "source": [
    "# Distributions"
   ]
  },
  {
   "cell_type": "code",
   "execution_count": 3,
   "metadata": {},
   "outputs": [],
   "source": [
    "import numpy as np\n",
    "import pandas as pd #called alias > pd\n",
    "import matplotlib.pyplot as plt # getting  the pyplot package from matplotlib"
   ]
  },
  {
   "cell_type": "code",
   "execution_count": 2,
   "metadata": {},
   "outputs": [],
   "source": [
    "%matplotlib inline"
   ]
  },
  {
   "cell_type": "markdown",
   "metadata": {},
   "source": [
    "## Load Seasons Data"
   ]
  },
  {
   "cell_type": "code",
   "execution_count": 4,
   "metadata": {},
   "outputs": [],
   "source": [
    "nba = pd.read_csv(\"./data/season_stats.csv\")"
   ]
  },
  {
   "cell_type": "code",
   "execution_count": 10,
   "metadata": {},
   "outputs": [
    {
     "data": {
      "text/html": [
       "<div>\n",
       "<style scoped>\n",
       "    .dataframe tbody tr th:only-of-type {\n",
       "        vertical-align: middle;\n",
       "    }\n",
       "\n",
       "    .dataframe tbody tr th {\n",
       "        vertical-align: top;\n",
       "    }\n",
       "\n",
       "    .dataframe thead th {\n",
       "        text-align: right;\n",
       "    }\n",
       "</style>\n",
       "<table border=\"1\" class=\"dataframe\">\n",
       "  <thead>\n",
       "    <tr style=\"text-align: right;\">\n",
       "      <th></th>\n",
       "      <th>Year</th>\n",
       "      <th>Player</th>\n",
       "      <th>Pos</th>\n",
       "      <th>Age</th>\n",
       "      <th>Tm</th>\n",
       "      <th>G</th>\n",
       "      <th>GS</th>\n",
       "      <th>MP</th>\n",
       "      <th>PER</th>\n",
       "      <th>TS%</th>\n",
       "      <th>...</th>\n",
       "      <th>FT%</th>\n",
       "      <th>ORB</th>\n",
       "      <th>DRB</th>\n",
       "      <th>TRB</th>\n",
       "      <th>AST</th>\n",
       "      <th>STL</th>\n",
       "      <th>BLK</th>\n",
       "      <th>TOV</th>\n",
       "      <th>PF</th>\n",
       "      <th>PTS</th>\n",
       "    </tr>\n",
       "  </thead>\n",
       "  <tbody>\n",
       "    <tr>\n",
       "      <th>0</th>\n",
       "      <td>1950.0</td>\n",
       "      <td>Curly Armstrong</td>\n",
       "      <td>G-F</td>\n",
       "      <td>31.0</td>\n",
       "      <td>FTW</td>\n",
       "      <td>63.0</td>\n",
       "      <td>NaN</td>\n",
       "      <td>NaN</td>\n",
       "      <td>NaN</td>\n",
       "      <td>0.368</td>\n",
       "      <td>...</td>\n",
       "      <td>0.705</td>\n",
       "      <td>NaN</td>\n",
       "      <td>NaN</td>\n",
       "      <td>NaN</td>\n",
       "      <td>176.0</td>\n",
       "      <td>NaN</td>\n",
       "      <td>NaN</td>\n",
       "      <td>NaN</td>\n",
       "      <td>217.0</td>\n",
       "      <td>458.0</td>\n",
       "    </tr>\n",
       "    <tr>\n",
       "      <th>1</th>\n",
       "      <td>1950.0</td>\n",
       "      <td>Cliff Barker</td>\n",
       "      <td>SG</td>\n",
       "      <td>29.0</td>\n",
       "      <td>INO</td>\n",
       "      <td>49.0</td>\n",
       "      <td>NaN</td>\n",
       "      <td>NaN</td>\n",
       "      <td>NaN</td>\n",
       "      <td>0.435</td>\n",
       "      <td>...</td>\n",
       "      <td>0.708</td>\n",
       "      <td>NaN</td>\n",
       "      <td>NaN</td>\n",
       "      <td>NaN</td>\n",
       "      <td>109.0</td>\n",
       "      <td>NaN</td>\n",
       "      <td>NaN</td>\n",
       "      <td>NaN</td>\n",
       "      <td>99.0</td>\n",
       "      <td>279.0</td>\n",
       "    </tr>\n",
       "    <tr>\n",
       "      <th>2</th>\n",
       "      <td>1950.0</td>\n",
       "      <td>Leo Barnhorst</td>\n",
       "      <td>SF</td>\n",
       "      <td>25.0</td>\n",
       "      <td>CHS</td>\n",
       "      <td>67.0</td>\n",
       "      <td>NaN</td>\n",
       "      <td>NaN</td>\n",
       "      <td>NaN</td>\n",
       "      <td>0.394</td>\n",
       "      <td>...</td>\n",
       "      <td>0.698</td>\n",
       "      <td>NaN</td>\n",
       "      <td>NaN</td>\n",
       "      <td>NaN</td>\n",
       "      <td>140.0</td>\n",
       "      <td>NaN</td>\n",
       "      <td>NaN</td>\n",
       "      <td>NaN</td>\n",
       "      <td>192.0</td>\n",
       "      <td>438.0</td>\n",
       "    </tr>\n",
       "    <tr>\n",
       "      <th>3</th>\n",
       "      <td>1950.0</td>\n",
       "      <td>Ed Bartels</td>\n",
       "      <td>F</td>\n",
       "      <td>24.0</td>\n",
       "      <td>TOT</td>\n",
       "      <td>15.0</td>\n",
       "      <td>NaN</td>\n",
       "      <td>NaN</td>\n",
       "      <td>NaN</td>\n",
       "      <td>0.312</td>\n",
       "      <td>...</td>\n",
       "      <td>0.559</td>\n",
       "      <td>NaN</td>\n",
       "      <td>NaN</td>\n",
       "      <td>NaN</td>\n",
       "      <td>20.0</td>\n",
       "      <td>NaN</td>\n",
       "      <td>NaN</td>\n",
       "      <td>NaN</td>\n",
       "      <td>29.0</td>\n",
       "      <td>63.0</td>\n",
       "    </tr>\n",
       "    <tr>\n",
       "      <th>4</th>\n",
       "      <td>1950.0</td>\n",
       "      <td>Ed Bartels</td>\n",
       "      <td>F</td>\n",
       "      <td>24.0</td>\n",
       "      <td>DNN</td>\n",
       "      <td>13.0</td>\n",
       "      <td>NaN</td>\n",
       "      <td>NaN</td>\n",
       "      <td>NaN</td>\n",
       "      <td>0.308</td>\n",
       "      <td>...</td>\n",
       "      <td>0.548</td>\n",
       "      <td>NaN</td>\n",
       "      <td>NaN</td>\n",
       "      <td>NaN</td>\n",
       "      <td>20.0</td>\n",
       "      <td>NaN</td>\n",
       "      <td>NaN</td>\n",
       "      <td>NaN</td>\n",
       "      <td>27.0</td>\n",
       "      <td>59.0</td>\n",
       "    </tr>\n",
       "  </tbody>\n",
       "</table>\n",
       "<p>5 rows × 52 columns</p>\n",
       "</div>"
      ],
      "text/plain": [
       "     Year           Player  Pos   Age   Tm     G  GS  MP  PER    TS%  ...    \\\n",
       "0  1950.0  Curly Armstrong  G-F  31.0  FTW  63.0 NaN NaN  NaN  0.368  ...     \n",
       "1  1950.0     Cliff Barker   SG  29.0  INO  49.0 NaN NaN  NaN  0.435  ...     \n",
       "2  1950.0    Leo Barnhorst   SF  25.0  CHS  67.0 NaN NaN  NaN  0.394  ...     \n",
       "3  1950.0       Ed Bartels    F  24.0  TOT  15.0 NaN NaN  NaN  0.312  ...     \n",
       "4  1950.0       Ed Bartels    F  24.0  DNN  13.0 NaN NaN  NaN  0.308  ...     \n",
       "\n",
       "     FT%  ORB  DRB  TRB    AST  STL  BLK  TOV     PF    PTS  \n",
       "0  0.705  NaN  NaN  NaN  176.0  NaN  NaN  NaN  217.0  458.0  \n",
       "1  0.708  NaN  NaN  NaN  109.0  NaN  NaN  NaN   99.0  279.0  \n",
       "2  0.698  NaN  NaN  NaN  140.0  NaN  NaN  NaN  192.0  438.0  \n",
       "3  0.559  NaN  NaN  NaN   20.0  NaN  NaN  NaN   29.0   63.0  \n",
       "4  0.548  NaN  NaN  NaN   20.0  NaN  NaN  NaN   27.0   59.0  \n",
       "\n",
       "[5 rows x 52 columns]"
      ]
     },
     "execution_count": 10,
     "metadata": {},
     "output_type": "execute_result"
    }
   ],
   "source": [
    "nba.head()"
   ]
  },
  {
   "cell_type": "markdown",
   "metadata": {},
   "source": [
    "### Use `value_counts()` to view all unique values in a distribution and their frequencies."
   ]
  },
  {
   "cell_type": "code",
   "execution_count": 7,
   "metadata": {},
   "outputs": [
    {
     "data": {
      "text/plain": [
       "0.500    235\n",
       "0.000    201\n",
       "0.521    188\n",
       "0.533    186\n",
       "0.530    182\n",
       "Name: TS%, dtype: int64"
      ]
     },
     "execution_count": 7,
     "metadata": {},
     "output_type": "execute_result"
    }
   ],
   "source": [
    "shoot = nba['TS%'].value_counts()\n",
    "shoot.head() # shows how many player have this points 0.500 points 235 players, explore the column you'll work with."
   ]
  },
  {
   "cell_type": "code",
   "execution_count": 13,
   "metadata": {},
   "outputs": [
    {
     "data": {
      "text/plain": [
       "0.000    201\n",
       "0.046      1\n",
       "0.051      2\n",
       "0.056      2\n",
       "0.063      1\n",
       "Name: TS%, dtype: int64"
      ]
     },
     "execution_count": 13,
     "metadata": {},
     "output_type": "execute_result"
    }
   ],
   "source": [
    "sorted_shoot = nba['TS%'].value_counts().sort_index() # it will sort least to greatest by default. or ascending=False as argument.\n",
    "sorted_shoot.head()"
   ]
  },
  {
   "cell_type": "markdown",
   "metadata": {},
   "source": [
    "### Use matplotlib to plot a Histogram to Visualize a Distribution"
   ]
  },
  {
   "cell_type": "code",
   "execution_count": 21,
   "metadata": {},
   "outputs": [
    {
     "data": {
      "image/png": "[encoded data removed]",
      "text/plain": [
       "<Figure size 432x288 with 1 Axes>"
      ]
     },
     "metadata": {
      "needs_background": "light"
     },
     "output_type": "display_data"
    }
   ],
   "source": [
    "plt.hist(nba['TS%'], bins=100)\n",
    "\n",
    "# Make it pretty \n",
    "plt.title(\"True Shooting % Across all NBA Seasons\")\n",
    "plt.xlabel(\"True Shooting Percentage\")\n",
    "plt.ylabel(\"# of Players\")\n",
    "\n",
    "# \"print\" the plot\n",
    "plt.show()"
   ]
  },
  {
   "cell_type": "markdown",
   "metadata": {},
   "source": [
    "### How different is the NBA Now than in 1950?"
   ]
  },
  {
   "cell_type": "code",
   "execution_count": 22,
   "metadata": {},
   "outputs": [
    {
     "name": "stdout",
     "output_type": "stream",
     "text": [
      "1950.0 2017.0\n"
     ]
    }
   ],
   "source": [
    "#creating a sub data frame. \n",
    "first_year = nba['Year'].min()\n",
    "last_year = nba['Year'].max()\n",
    "print(first_year, last_year)"
   ]
  },
  {
   "cell_type": "code",
   "execution_count": 24,
   "metadata": {},
   "outputs": [
    {
     "data": {
      "text/plain": [
       "(312, 52)"
      ]
     },
     "execution_count": 24,
     "metadata": {},
     "output_type": "execute_result"
    }
   ],
   "source": [
    "y_1950 = nba[nba['Year'] == first_year] # [passes a boolean.]\n",
    "y_1950.head()\n",
    "y_1950.shape"
   ]
  },
  {
   "cell_type": "code",
   "execution_count": 26,
   "metadata": {},
   "outputs": [],
   "source": [
    "y_2017 = nba[nba['Year'] == last_year]"
   ]
  },
  {
   "cell_type": "code",
   "execution_count": 27,
   "metadata": {},
   "outputs": [
    {
     "data": {
      "image/png": "[encoded data removed]",
      "text/plain": [
       "<Figure size 432x288 with 1 Axes>"
      ]
     },
     "metadata": {
      "needs_background": "light"
     },
     "output_type": "display_data"
    }
   ],
   "source": [
    "plt.hist(y_1950['TS%'], bins=20)\n",
    "\n",
    "# Make it pretty \n",
    "plt.title(\"True Shooting % for 1950 Season\")\n",
    "plt.xlabel(\"True Shooting Percentage\")\n",
    "plt.ylabel(\"# of Players\")\n",
    "\n",
    "# \"print\" the plot\n",
    "plt.show()"
   ]
  },
  {
   "cell_type": "code",
   "execution_count": 28,
   "metadata": {},
   "outputs": [
    {
     "data": {
      "image/png": "[encoded data removed]",
      "text/plain": [
       "<Figure size 432x288 with 1 Axes>"
      ]
     },
     "metadata": {
      "needs_background": "light"
     },
     "output_type": "display_data"
    }
   ],
   "source": [
    "plt.hist(y_2017['TS%'], bins=20)\n",
    "\n",
    "# Make it pretty \n",
    "plt.title(\"True Shooting % for 2017 Season\")\n",
    "plt.xlabel(\"True Shooting Percentage\")\n",
    "plt.ylabel(\"# of Players\")\n",
    "\n",
    "# \"print\" the plot\n",
    "plt.show()"
   ]
  },
  {
   "cell_type": "markdown",
   "metadata": {},
   "source": [
    "Using only the data from the Histograms for both years... What has happened to True Shooting % between 1950 and 2017?"
   ]
  },
  {
   "cell_type": "code",
   "execution_count": null,
   "metadata": {},
   "outputs": [],
   "source": [
    "#short answer > number of players increased. Why it looked like it shifted left? in 1950 it was around .4 in 2017 it about .5"
   ]
  },
  {
   "cell_type": "markdown",
   "metadata": {},
   "source": [
    "## Load Player Data"
   ]
  },
  {
   "cell_type": "code",
   "execution_count": 38,
   "metadata": {},
   "outputs": [
    {
     "data": {
      "text/html": [
       "<div>\n",
       "<style scoped>\n",
       "    .dataframe tbody tr th:only-of-type {\n",
       "        vertical-align: middle;\n",
       "    }\n",
       "\n",
       "    .dataframe tbody tr th {\n",
       "        vertical-align: top;\n",
       "    }\n",
       "\n",
       "    .dataframe thead th {\n",
       "        text-align: right;\n",
       "    }\n",
       "</style>\n",
       "<table border=\"1\" class=\"dataframe\">\n",
       "  <thead>\n",
       "    <tr style=\"text-align: right;\">\n",
       "      <th></th>\n",
       "      <th>name</th>\n",
       "      <th>year_start</th>\n",
       "      <th>year_end</th>\n",
       "      <th>position</th>\n",
       "      <th>height</th>\n",
       "      <th>weight</th>\n",
       "      <th>birth_date</th>\n",
       "      <th>college</th>\n",
       "    </tr>\n",
       "  </thead>\n",
       "  <tbody>\n",
       "    <tr>\n",
       "      <th>0</th>\n",
       "      <td>Alaa Abdelnaby</td>\n",
       "      <td>1991</td>\n",
       "      <td>1995</td>\n",
       "      <td>F-C</td>\n",
       "      <td>6-10</td>\n",
       "      <td>240.0</td>\n",
       "      <td>June 24, 1968</td>\n",
       "      <td>Duke University</td>\n",
       "    </tr>\n",
       "    <tr>\n",
       "      <th>1</th>\n",
       "      <td>Zaid Abdul-Aziz</td>\n",
       "      <td>1969</td>\n",
       "      <td>1978</td>\n",
       "      <td>C-F</td>\n",
       "      <td>6-9</td>\n",
       "      <td>235.0</td>\n",
       "      <td>April 7, 1946</td>\n",
       "      <td>Iowa State University</td>\n",
       "    </tr>\n",
       "    <tr>\n",
       "      <th>2</th>\n",
       "      <td>Kareem Abdul-Jabbar</td>\n",
       "      <td>1970</td>\n",
       "      <td>1989</td>\n",
       "      <td>C</td>\n",
       "      <td>7-2</td>\n",
       "      <td>225.0</td>\n",
       "      <td>April 16, 1947</td>\n",
       "      <td>University of California, Los Angeles</td>\n",
       "    </tr>\n",
       "    <tr>\n",
       "      <th>3</th>\n",
       "      <td>Mahmoud Abdul-Rauf</td>\n",
       "      <td>1991</td>\n",
       "      <td>2001</td>\n",
       "      <td>G</td>\n",
       "      <td>6-1</td>\n",
       "      <td>162.0</td>\n",
       "      <td>March 9, 1969</td>\n",
       "      <td>Louisiana State University</td>\n",
       "    </tr>\n",
       "    <tr>\n",
       "      <th>4</th>\n",
       "      <td>Tariq Abdul-Wahad</td>\n",
       "      <td>1998</td>\n",
       "      <td>2003</td>\n",
       "      <td>F</td>\n",
       "      <td>6-6</td>\n",
       "      <td>223.0</td>\n",
       "      <td>November 3, 1974</td>\n",
       "      <td>San Jose State University</td>\n",
       "    </tr>\n",
       "    <tr>\n",
       "      <th>5</th>\n",
       "      <td>Shareef Abdur-Rahim</td>\n",
       "      <td>1997</td>\n",
       "      <td>2008</td>\n",
       "      <td>F</td>\n",
       "      <td>6-9</td>\n",
       "      <td>225.0</td>\n",
       "      <td>December 11, 1976</td>\n",
       "      <td>University of California</td>\n",
       "    </tr>\n",
       "    <tr>\n",
       "      <th>6</th>\n",
       "      <td>Tom Abernethy</td>\n",
       "      <td>1977</td>\n",
       "      <td>1981</td>\n",
       "      <td>F</td>\n",
       "      <td>6-7</td>\n",
       "      <td>220.0</td>\n",
       "      <td>May 6, 1954</td>\n",
       "      <td>Indiana University</td>\n",
       "    </tr>\n",
       "    <tr>\n",
       "      <th>7</th>\n",
       "      <td>Forest Able</td>\n",
       "      <td>1957</td>\n",
       "      <td>1957</td>\n",
       "      <td>G</td>\n",
       "      <td>6-3</td>\n",
       "      <td>180.0</td>\n",
       "      <td>July 27, 1932</td>\n",
       "      <td>Western Kentucky University</td>\n",
       "    </tr>\n",
       "    <tr>\n",
       "      <th>8</th>\n",
       "      <td>John Abramovic</td>\n",
       "      <td>1947</td>\n",
       "      <td>1948</td>\n",
       "      <td>F</td>\n",
       "      <td>6-3</td>\n",
       "      <td>195.0</td>\n",
       "      <td>February 9, 1919</td>\n",
       "      <td>Salem International University</td>\n",
       "    </tr>\n",
       "    <tr>\n",
       "      <th>9</th>\n",
       "      <td>Alex Abrines</td>\n",
       "      <td>2017</td>\n",
       "      <td>2018</td>\n",
       "      <td>G-F</td>\n",
       "      <td>6-6</td>\n",
       "      <td>190.0</td>\n",
       "      <td>August 1, 1993</td>\n",
       "      <td>NaN</td>\n",
       "    </tr>\n",
       "    <tr>\n",
       "      <th>10</th>\n",
       "      <td>Alex Acker</td>\n",
       "      <td>2006</td>\n",
       "      <td>2009</td>\n",
       "      <td>G</td>\n",
       "      <td>6-5</td>\n",
       "      <td>185.0</td>\n",
       "      <td>January 21, 1983</td>\n",
       "      <td>Pepperdine University</td>\n",
       "    </tr>\n",
       "    <tr>\n",
       "      <th>11</th>\n",
       "      <td>Don Ackerman</td>\n",
       "      <td>1954</td>\n",
       "      <td>1954</td>\n",
       "      <td>G</td>\n",
       "      <td>6-0</td>\n",
       "      <td>183.0</td>\n",
       "      <td>September 4, 1930</td>\n",
       "      <td>Long Island University</td>\n",
       "    </tr>\n",
       "    <tr>\n",
       "      <th>12</th>\n",
       "      <td>Mark Acres</td>\n",
       "      <td>1988</td>\n",
       "      <td>1993</td>\n",
       "      <td>F-C</td>\n",
       "      <td>6-11</td>\n",
       "      <td>220.0</td>\n",
       "      <td>November 15, 1962</td>\n",
       "      <td>Oral Roberts University</td>\n",
       "    </tr>\n",
       "    <tr>\n",
       "      <th>13</th>\n",
       "      <td>Bud Acton</td>\n",
       "      <td>1968</td>\n",
       "      <td>1968</td>\n",
       "      <td>F</td>\n",
       "      <td>6-6</td>\n",
       "      <td>210.0</td>\n",
       "      <td>January 11, 1942</td>\n",
       "      <td>Hillsdale College</td>\n",
       "    </tr>\n",
       "    <tr>\n",
       "      <th>14</th>\n",
       "      <td>Quincy Acy</td>\n",
       "      <td>2013</td>\n",
       "      <td>2018</td>\n",
       "      <td>F</td>\n",
       "      <td>6-7</td>\n",
       "      <td>240.0</td>\n",
       "      <td>October 6, 1990</td>\n",
       "      <td>Baylor University</td>\n",
       "    </tr>\n",
       "    <tr>\n",
       "      <th>15</th>\n",
       "      <td>Alvan Adams</td>\n",
       "      <td>1976</td>\n",
       "      <td>1988</td>\n",
       "      <td>C-F</td>\n",
       "      <td>6-9</td>\n",
       "      <td>210.0</td>\n",
       "      <td>July 19, 1954</td>\n",
       "      <td>University of Oklahoma</td>\n",
       "    </tr>\n",
       "    <tr>\n",
       "      <th>16</th>\n",
       "      <td>Don Adams</td>\n",
       "      <td>1971</td>\n",
       "      <td>1977</td>\n",
       "      <td>F</td>\n",
       "      <td>6-6</td>\n",
       "      <td>210.0</td>\n",
       "      <td>November 27, 1947</td>\n",
       "      <td>Northwestern University</td>\n",
       "    </tr>\n",
       "    <tr>\n",
       "      <th>17</th>\n",
       "      <td>George Adams</td>\n",
       "      <td>1973</td>\n",
       "      <td>1975</td>\n",
       "      <td>F-G</td>\n",
       "      <td>6-5</td>\n",
       "      <td>210.0</td>\n",
       "      <td>May 15, 1949</td>\n",
       "      <td>Gardner-Webb University</td>\n",
       "    </tr>\n",
       "    <tr>\n",
       "      <th>18</th>\n",
       "      <td>Hassan Adams</td>\n",
       "      <td>2007</td>\n",
       "      <td>2009</td>\n",
       "      <td>G</td>\n",
       "      <td>6-4</td>\n",
       "      <td>220.0</td>\n",
       "      <td>June 20, 1984</td>\n",
       "      <td>University of Arizona</td>\n",
       "    </tr>\n",
       "    <tr>\n",
       "      <th>19</th>\n",
       "      <td>Jordan Adams</td>\n",
       "      <td>2015</td>\n",
       "      <td>2016</td>\n",
       "      <td>G</td>\n",
       "      <td>6-5</td>\n",
       "      <td>209.0</td>\n",
       "      <td>July 8, 1994</td>\n",
       "      <td>University of California, Los Angeles</td>\n",
       "    </tr>\n",
       "    <tr>\n",
       "      <th>20</th>\n",
       "      <td>Michael Adams</td>\n",
       "      <td>1986</td>\n",
       "      <td>1996</td>\n",
       "      <td>G</td>\n",
       "      <td>5-10</td>\n",
       "      <td>162.0</td>\n",
       "      <td>January 19, 1963</td>\n",
       "      <td>Boston College</td>\n",
       "    </tr>\n",
       "  </tbody>\n",
       "</table>\n",
       "</div>"
      ],
      "text/plain": [
       "                   name  year_start  year_end position height  weight  \\\n",
       "0        Alaa Abdelnaby        1991      1995      F-C   6-10   240.0   \n",
       "1       Zaid Abdul-Aziz        1969      1978      C-F    6-9   235.0   \n",
       "2   Kareem Abdul-Jabbar        1970      1989        C    7-2   225.0   \n",
       "3    Mahmoud Abdul-Rauf        1991      2001        G    6-1   162.0   \n",
       "4     Tariq Abdul-Wahad        1998      2003        F    6-6   223.0   \n",
       "5   Shareef Abdur-Rahim        1997      2008        F    6-9   225.0   \n",
       "6         Tom Abernethy        1977      1981        F    6-7   220.0   \n",
       "7           Forest Able        1957      1957        G    6-3   180.0   \n",
       "8        John Abramovic        1947      1948        F    6-3   195.0   \n",
       "9          Alex Abrines        2017      2018      G-F    6-6   190.0   \n",
       "10           Alex Acker        2006      2009        G    6-5   185.0   \n",
       "11         Don Ackerman        1954      1954        G    6-0   183.0   \n",
       "12           Mark Acres        1988      1993      F-C   6-11   220.0   \n",
       "13            Bud Acton        1968      1968        F    6-6   210.0   \n",
       "14           Quincy Acy        2013      2018        F    6-7   240.0   \n",
       "15          Alvan Adams        1976      1988      C-F    6-9   210.0   \n",
       "16            Don Adams        1971      1977        F    6-6   210.0   \n",
       "17         George Adams        1973      1975      F-G    6-5   210.0   \n",
       "18         Hassan Adams        2007      2009        G    6-4   220.0   \n",
       "19         Jordan Adams        2015      2016        G    6-5   209.0   \n",
       "20        Michael Adams        1986      1996        G   5-10   162.0   \n",
       "\n",
       "           birth_date                                college  \n",
       "0       June 24, 1968                        Duke University  \n",
       "1       April 7, 1946                  Iowa State University  \n",
       "2      April 16, 1947  University of California, Los Angeles  \n",
       "3       March 9, 1969             Louisiana State University  \n",
       "4    November 3, 1974              San Jose State University  \n",
       "5   December 11, 1976               University of California  \n",
       "6         May 6, 1954                     Indiana University  \n",
       "7       July 27, 1932            Western Kentucky University  \n",
       "8    February 9, 1919         Salem International University  \n",
       "9      August 1, 1993                                    NaN  \n",
       "10   January 21, 1983                  Pepperdine University  \n",
       "11  September 4, 1930                 Long Island University  \n",
       "12  November 15, 1962                Oral Roberts University  \n",
       "13   January 11, 1942                      Hillsdale College  \n",
       "14    October 6, 1990                      Baylor University  \n",
       "15      July 19, 1954                 University of Oklahoma  \n",
       "16  November 27, 1947                Northwestern University  \n",
       "17       May 15, 1949                Gardner-Webb University  \n",
       "18      June 20, 1984                  University of Arizona  \n",
       "19       July 8, 1994  University of California, Los Angeles  \n",
       "20   January 19, 1963                         Boston College  "
      ]
     },
     "execution_count": 38,
     "metadata": {},
     "output_type": "execute_result"
    }
   ],
   "source": [
    "players = pd.read_csv('./data/player_data.csv')\n",
    "players.head(21)"
   ]
  },
  {
   "cell_type": "markdown",
   "metadata": {},
   "source": [
    "### Does The College Attended affect performance in NBA?"
   ]
  },
  {
   "cell_type": "code",
   "execution_count": 32,
   "metadata": {},
   "outputs": [],
   "source": [
    "top_5_colleges = ['University of Kentucky',\n",
    "                  'Duke University',\n",
    "                  'University of Kansas',\n",
    "                  'Syracuse University',\n",
    "                  'University of California, Los Angeles',\n",
    "                 ]\n",
    "# universities might change from year to year so this filter is not accurate."
   ]
  },
  {
   "cell_type": "code",
   "execution_count": 35,
   "metadata": {},
   "outputs": [
    {
     "name": "stdout",
     "output_type": "stream",
     "text": [
      "0      True\n",
      "1     False\n",
      "2      True\n",
      "3     False\n",
      "4     False\n",
      "5     False\n",
      "6     False\n",
      "7     False\n",
      "8     False\n",
      "9     False\n",
      "10    False\n",
      "11    False\n",
      "12    False\n",
      "13    False\n",
      "14    False\n",
      "Name: college, dtype: bool\n"
     ]
    }
   ],
   "source": [
    "# Check \"college\" column against top_5_colleges\n",
    "in_top_5_colleges = players['college'].isin(top_5_colleges)\n",
    "\n",
    "print(in_top_5_colleges.head(15))"
   ]
  },
  {
   "cell_type": "code",
   "execution_count": 36,
   "metadata": {},
   "outputs": [],
   "source": [
    "# index entire players df by \"in_top_5\"\n",
    "players_in_top_5 = players[in_top_5_colleges]['name'] #asking just the name of this series. do some exploration on this one !! "
   ]
  },
  {
   "cell_type": "code",
   "execution_count": 39,
   "metadata": {},
   "outputs": [
    {
     "data": {
      "text/plain": [
       "(2198, 52)"
      ]
     },
     "execution_count": 39,
     "metadata": {},
     "output_type": "execute_result"
    }
   ],
   "source": [
    "top_college = nba[nba['Player'].isin(players_in_top_5)]\n",
    "top_college.shape"
   ]
  },
  {
   "cell_type": "code",
   "execution_count": 40,
   "metadata": {},
   "outputs": [
    {
     "data": {
      "text/plain": [
       "(22493, 52)"
      ]
     },
     "execution_count": 40,
     "metadata": {},
     "output_type": "execute_result"
    }
   ],
   "source": [
    "bottom_college = nba[~nba['Player'].isin(players_in_top_5)] # ~ this is Pandas version of not. only works on Pandas objects or series.\n",
    "bottom_college.shape"
   ]
  },
  {
   "cell_type": "markdown",
   "metadata": {},
   "source": [
    "#### Plot the Players not from Top 5"
   ]
  },
  {
   "cell_type": "code",
   "execution_count": 41,
   "metadata": {},
   "outputs": [
    {
     "data": {
      "image/png": "[encoded data removed]",
      "text/plain": [
       "<Figure size 432x288 with 1 Axes>"
      ]
     },
     "metadata": {
      "needs_background": "light"
     },
     "output_type": "display_data"
    }
   ],
   "source": [
    "plt.hist(bottom_college['PER'], bins=50)\n",
    "\n",
    "# Make it pretty \n",
    "plt.title(\"PER for Players NOT from Top 5 Colleges\")\n",
    "plt.xlabel(\"Player Efficiency Rating\")\n",
    "plt.ylabel(\"# of Players\")\n",
    "\n",
    "# \"print\" the plot\n",
    "plt.show()"
   ]
  },
  {
   "cell_type": "markdown",
   "metadata": {},
   "source": [
    "#### Plot the Players from Top 5"
   ]
  },
  {
   "cell_type": "code",
   "execution_count": 42,
   "metadata": {},
   "outputs": [
    {
     "data": {
      "image/png": "[encoded data removed]",
      "text/plain": [
       "<Figure size 432x288 with 1 Axes>"
      ]
     },
     "metadata": {
      "needs_background": "light"
     },
     "output_type": "display_data"
    }
   ],
   "source": [
    "plt.hist(top_college['PER'], bins=50)\n",
    "\n",
    "# Make it pretty \n",
    "plt.title(\"PER for Players FROM Top 5 Colleges\")\n",
    "plt.xlabel(\"Player Efficiency Rating\")\n",
    "plt.ylabel(\"# of Players\")\n",
    "\n",
    "# \"print\" the plot\n",
    "plt.show()"
   ]
  },
  {
   "cell_type": "markdown",
   "metadata": {},
   "source": [
    "What conclusions can we draw about these 2 groups?"
   ]
  },
  {
   "cell_type": "code",
   "execution_count": null,
   "metadata": {},
   "outputs": [],
   "source": [
    "# Short answer according to this PER value no significant difference between college attending or not. you can look at the means of those for example or value counts."
   ]
  }
 ],
 "metadata": {
  "kernelspec": {
   "display_name": "Python 3",
   "language": "python",
   "name": "python3"
  },
  "language_info": {
   "codemirror_mode": {
    "name": "ipython",
    "version": 3
   },
   "file_extension": ".py",
   "mimetype": "text/x-python",
   "name": "python",
   "nbconvert_exporter": "python",
   "pygments_lexer": "ipython3",
   "version": "3.7.1"
  }
 },
 "nbformat": 4,
 "nbformat_minor": 2
}
